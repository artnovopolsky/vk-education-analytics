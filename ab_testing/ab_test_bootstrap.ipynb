{
 "cells": [
  {
   "cell_type": "markdown",
   "id": "7621ca69-ddf3-44e3-b96d-a0ee607a7940",
   "metadata": {
    "id": "7621ca69-ddf3-44e3-b96d-a0ee607a7940"
   },
   "source": [
    "## Домашнее задание №3. Новопольский Артём"
   ]
  },
  {
   "cell_type": "code",
   "execution_count": 1,
   "id": "9b3e3537-cfc4-44d7-93fd-9377f0dae30d",
   "metadata": {
    "id": "9b3e3537-cfc4-44d7-93fd-9377f0dae30d"
   },
   "outputs": [],
   "source": [
    "import pandas as pd\n",
    "import matplotlib.pyplot as plt\n",
    "import seaborn as sns\n",
    "import bootstrapped.bootstrap as bs\n",
    "import bootstrapped.stats_functions as bs_stats\n",
    "import bootstrapped.compare_functions as bs_compare\n",
    "from scipy.stats import shapiro, levene\n",
    "sns.set(palette='bright')"
   ]
  },
  {
   "cell_type": "markdown",
   "id": "167c714f-728c-47ca-ac22-7f4dcf270c96",
   "metadata": {
    "id": "167c714f-728c-47ca-ac22-7f4dcf270c96"
   },
   "source": [
    "### Описание кейса\n",
    "\n",
    "1. На сайте проводится некоторый эксперимент. Время проведения эксперимента – *2 недели*. Всего на сайте **DAU** около *500 000* и **WAU** около *850 000*. Всего за время работы на сайте образовалась аудитория из около *1 500 000* не уходящих в отток посетителей.\n",
    "\n",
    "\n",
    "2. В файле данные о результатах эксперимента. В колонке `group_id` вы видите bucket’ы с номерами *от 1 до 16*. К группе `A`, контрольной, относятся bucket’ы *1..8*, к группе `B`, экспериментальной – *9..16*. Колонки:\n",
    "- `metric_value` – сумма целевых действий пользователей в рамках bucket’а – например, просмотров рекламного баннера, телефона на сайте classified-сервиса или покупок в retail/FMCG;\n",
    "- `users` – кол-во пользователей, совершивших целевое действие, \n",
    "- `visits` – кол-во целевых сессий,\n",
    "- `churn_users` и `churn_visits` – кол-во пользователей в рамках bucket’а, отказавшихся сделать заказ, и сессий, не закончившихся успешным целевым действием.\n",
    "\n",
    "3. Менеджера продукта интересует, какие **позитивные** и **негативные** эффекты вызвало нововведение. Продумайте **метрики**, которые стоит исследовать в рамках имеющихся данных для ответа на вопрос менеджера.\n",
    "\n",
    "\n",
    "### Описание задания\n",
    "\n",
    "1. Загрузите данные из файла в структуру `pandas.DataFrame()`.\n",
    "\n",
    "2. Проведите *оценку равенства дисперсий* исследуемых метрик в группах и исследуйте *распределение на нормальность*. Какими критериями вы воспользовались и почему?\n",
    "\n",
    "3. Оцените статистическую значимость различий исследуемых метрик в выборках при помощи библиотеки `bootstrapped`. \n",
    "\n",
    "4. Изобразите *гистограммы* и *диаграммы размаха*.\n",
    "\n",
    "5. Результат работы пришлите в формате *IPython Jupyter Notebook* на сервисе *Google Colab*."
   ]
  },
  {
   "cell_type": "markdown",
   "id": "7684faa6-8aaa-4329-bf57-9e3596ce4846",
   "metadata": {
    "id": "7684faa6-8aaa-4329-bf57-9e3596ce4846"
   },
   "source": [
    "## Импорт данных"
   ]
  },
  {
   "cell_type": "code",
   "execution_count": 2,
   "id": "91c5a42a-bf02-413a-9054-4cbffdb476ba",
   "metadata": {
    "colab": {
     "base_uri": "https://localhost:8080/",
     "height": 206
    },
    "executionInfo": {
     "elapsed": 344,
     "status": "ok",
     "timestamp": 1638947063306,
     "user": {
      "displayName": "Artyom Novopolsky",
      "photoUrl": "https://lh3.googleusercontent.com/a-/AOh14Gi7B6-DXLtrBykiBfRtOp62BPkUqslVCXI1_h1Z=s64",
      "userId": "10721039327553002337"
     },
     "user_tz": -180
    },
    "id": "91c5a42a-bf02-413a-9054-4cbffdb476ba",
    "outputId": "08a0aa6b-4fad-4a76-a036-ee63e536c3d4",
    "scrolled": true
   },
   "outputs": [
    {
     "data": {
      "text/html": [
       "<div>\n",
       "<style scoped>\n",
       "    .dataframe tbody tr th:only-of-type {\n",
       "        vertical-align: middle;\n",
       "    }\n",
       "\n",
       "    .dataframe tbody tr th {\n",
       "        vertical-align: top;\n",
       "    }\n",
       "\n",
       "    .dataframe thead th {\n",
       "        text-align: right;\n",
       "    }\n",
       "</style>\n",
       "<table border=\"1\" class=\"dataframe\">\n",
       "  <thead>\n",
       "    <tr style=\"text-align: right;\">\n",
       "      <th></th>\n",
       "      <th>group_id</th>\n",
       "      <th>metric_value</th>\n",
       "      <th>users</th>\n",
       "      <th>visits</th>\n",
       "      <th>churn_users</th>\n",
       "      <th>churn_visits</th>\n",
       "      <th>group</th>\n",
       "    </tr>\n",
       "  </thead>\n",
       "  <tbody>\n",
       "    <tr>\n",
       "      <th>0</th>\n",
       "      <td>8</td>\n",
       "      <td>6630.000</td>\n",
       "      <td>0</td>\n",
       "      <td>0</td>\n",
       "      <td>0</td>\n",
       "      <td>8</td>\n",
       "      <td>A</td>\n",
       "    </tr>\n",
       "    <tr>\n",
       "      <th>1</th>\n",
       "      <td>13</td>\n",
       "      <td>6933.976</td>\n",
       "      <td>0</td>\n",
       "      <td>0</td>\n",
       "      <td>1</td>\n",
       "      <td>6</td>\n",
       "      <td>B</td>\n",
       "    </tr>\n",
       "    <tr>\n",
       "      <th>2</th>\n",
       "      <td>10</td>\n",
       "      <td>8261.976</td>\n",
       "      <td>1</td>\n",
       "      <td>10</td>\n",
       "      <td>1</td>\n",
       "      <td>8</td>\n",
       "      <td>B</td>\n",
       "    </tr>\n",
       "    <tr>\n",
       "      <th>3</th>\n",
       "      <td>4</td>\n",
       "      <td>5522.000</td>\n",
       "      <td>1</td>\n",
       "      <td>9</td>\n",
       "      <td>1</td>\n",
       "      <td>7</td>\n",
       "      <td>A</td>\n",
       "    </tr>\n",
       "    <tr>\n",
       "      <th>4</th>\n",
       "      <td>16</td>\n",
       "      <td>5075.976</td>\n",
       "      <td>1</td>\n",
       "      <td>6</td>\n",
       "      <td>0</td>\n",
       "      <td>8</td>\n",
       "      <td>B</td>\n",
       "    </tr>\n",
       "  </tbody>\n",
       "</table>\n",
       "</div>"
      ],
      "text/plain": [
       "   group_id  metric_value  users  visits  churn_users  churn_visits group\n",
       "0         8      6630.000      0       0            0             8     A\n",
       "1        13      6933.976      0       0            1             6     B\n",
       "2        10      8261.976      1      10            1             8     B\n",
       "3         4      5522.000      1       9            1             7     A\n",
       "4        16      5075.976      1       6            0             8     B"
      ]
     },
     "execution_count": 2,
     "metadata": {},
     "output_type": "execute_result"
    }
   ],
   "source": [
    "user_data = pd.read_csv('../data/hw_ab_test.csv', sep='\\t', index_col=0)\n",
    "user_data.head()"
   ]
  },
  {
   "cell_type": "markdown",
   "id": "b49df39c-3b09-48ec-aaf0-9c5dfe33e376",
   "metadata": {
    "id": "b49df39c-3b09-48ec-aaf0-9c5dfe33e376"
   },
   "source": [
    "Убедимся, что в нашем наборе данных отсутствуют пропущенные значения:"
   ]
  },
  {
   "cell_type": "code",
   "execution_count": 3,
   "id": "065d072c-d038-48f4-8a0d-436556567684",
   "metadata": {
    "colab": {
     "base_uri": "https://localhost:8080/"
    },
    "executionInfo": {
     "elapsed": 341,
     "status": "ok",
     "timestamp": 1638947069068,
     "user": {
      "displayName": "Artyom Novopolsky",
      "photoUrl": "https://lh3.googleusercontent.com/a-/AOh14Gi7B6-DXLtrBykiBfRtOp62BPkUqslVCXI1_h1Z=s64",
      "userId": "10721039327553002337"
     },
     "user_tz": -180
    },
    "id": "065d072c-d038-48f4-8a0d-436556567684",
    "outputId": "c0bef76b-fd7e-4f93-eca7-497b5f56f30e",
    "scrolled": true
   },
   "outputs": [
    {
     "data": {
      "text/plain": [
       "True"
      ]
     },
     "execution_count": 3,
     "metadata": {},
     "output_type": "execute_result"
    }
   ],
   "source": [
    "user_data.isna().values.sum() == 0"
   ]
  },
  {
   "cell_type": "markdown",
   "id": "f058b884-f2de-4900-a449-fedab776d33e",
   "metadata": {
    "id": "f058b884-f2de-4900-a449-fedab776d33e"
   },
   "source": [
    "Посмотрим, сколько пользователей содержится в контрольной и тестовой группах, чтобы удостовериться, что количество наблюдений сбалансировано:"
   ]
  },
  {
   "cell_type": "code",
   "execution_count": 4,
   "id": "abe8af9b-d512-488a-b345-b57b4c8240e1",
   "metadata": {
    "colab": {
     "base_uri": "https://localhost:8080/"
    },
    "executionInfo": {
     "elapsed": 336,
     "status": "ok",
     "timestamp": 1638947072426,
     "user": {
      "displayName": "Artyom Novopolsky",
      "photoUrl": "https://lh3.googleusercontent.com/a-/AOh14Gi7B6-DXLtrBykiBfRtOp62BPkUqslVCXI1_h1Z=s64",
      "userId": "10721039327553002337"
     },
     "user_tz": -180
    },
    "id": "abe8af9b-d512-488a-b345-b57b4c8240e1",
    "outputId": "4fbd0e26-155a-492c-9bf1-d41d3f09edcb",
    "scrolled": true
   },
   "outputs": [
    {
     "name": "stdout",
     "output_type": "stream",
     "text": [
      "Control group size: 2451 \n",
      "Test group size: 2549\n"
     ]
    }
   ],
   "source": [
    "print('Control group size:', len(user_data.loc[user_data.group == 'A']), \n",
    "      '\\nTest group size:', len(user_data.loc[user_data.group == 'B']))"
   ]
  },
  {
   "cell_type": "markdown",
   "id": "14f03ca3-f446-4d49-8a93-8538742ebb1f",
   "metadata": {
    "id": "14f03ca3-f446-4d49-8a93-8538742ebb1f"
   },
   "source": [
    "## Графический анализ данных\n",
    "\n",
    "Начнём исследование с **визуализации данных**. Для этого произведём разбиение данных по контрольной и тестовой группам."
   ]
  },
  {
   "cell_type": "code",
   "execution_count": 5,
   "id": "f1926feb",
   "metadata": {
    "id": "f1926feb"
   },
   "outputs": [],
   "source": [
    "control = user_data.loc[user_data.group == 'A']\n",
    "test = user_data.loc[user_data.group == 'B']"
   ]
  },
  {
   "cell_type": "markdown",
   "id": "8d70f77f-fcda-4617-937e-49c0787ed60a",
   "metadata": {
    "id": "8d70f77f-fcda-4617-937e-49c0787ed60a"
   },
   "source": [
    "Для визуализации создадим функцию - `show_plots`, которая будет принимать на вход данные для контрольной и тестовой групп, а также метрики, которые нужно визуализировать.\n",
    "\n",
    "Функция будет отображать два графика для каждой метрики - **гистограмму** метрики в контрольной и тестовой группах, а также **диаграмму размаха** (box-plot) метрики в контрольной и тестовой группах."
   ]
  },
  {
   "cell_type": "code",
   "execution_count": 6,
   "id": "1e1881e3",
   "metadata": {
    "colab": {
     "base_uri": "https://localhost:8080/",
     "height": 1000
    },
    "executionInfo": {
     "elapsed": 3863,
     "status": "ok",
     "timestamp": 1638947083270,
     "user": {
      "displayName": "Artyom Novopolsky",
      "photoUrl": "https://lh3.googleusercontent.com/a-/AOh14Gi7B6-DXLtrBykiBfRtOp62BPkUqslVCXI1_h1Z=s64",
      "userId": "10721039327553002337"
     },
     "user_tz": -180
    },
    "id": "1e1881e3",
    "outputId": "f549b3f7-3713-4d0d-d307-a6afb5bce457"
   },
   "outputs": [
    {
     "data": {
      "image/png": "[encoded data removed]",
      "text/plain": [
       "<Figure size 720x1440 with 10 Axes>"
      ]
     },
     "metadata": {},
     "output_type": "display_data"
    }
   ],
   "source": [
    "def show_plots(control, test, metrics):\n",
    "    fig, axes = plt.subplots(len(metrics), 2, figsize=(10, 20))\n",
    "    plt.subplots_adjust(wspace=0.3, hspace=0.3)\n",
    "    \n",
    "    for i, metric in enumerate(metrics):\n",
    "        sns.histplot(control[metric], ax=axes[i, 0], label='control group', color='blue')\n",
    "        sns.histplot(test[metric], ax=axes[i, 0], label='test group', color='orange')\n",
    "        axes[i, 0].legend()\n",
    "        \n",
    "        sns.boxplot(data=[control[metric], test[metric]], ax=axes[i, 1]).set(\n",
    "            xticklabels=['control group', 'test group'], \n",
    "            ylabel=metric,\n",
    "        )\n",
    "    plt.show()\n",
    "\n",
    "metrics = ['metric_value', 'churn_users', 'users', 'visits', 'churn_visits']\n",
    "show_plots(control, test, metrics)"
   ]
  },
  {
   "cell_type": "markdown",
   "id": "47942619-79d8-43f7-9e68-df2e6b0c22e9",
   "metadata": {
    "id": "47942619-79d8-43f7-9e68-df2e6b0c22e9",
    "tags": []
   },
   "source": [
    "### Интерпретация графиков\n",
    "\n",
    "По полученным графикам видно, что только распределение метрики `metric_value` чем-то напоминает нормальное, так что имеет смысл его исследовать при помощи статистического теста. Остальные метрики явно имеют распределения, отличные от нормального. \n",
    "\n",
    "Также по графикам заметно, что данные `metric_value` в тестовой группе смещены относительно контрольной. А на гистограмме метрики `churn_users` видно, как сильно отличаются значения в тестовой и контрольной группах. Полученные визуализации дают почву для более глубокого анализа изменения метрик `metric_value` и `churn_users`.\n",
    "\n",
    "Оставшиеся метрики `users`, `visits`, `churn visits`, как можно увидеть по *box-plot'ам* и *гистограммам*, не претерпели серьёзных изменений."
   ]
  },
  {
   "cell_type": "markdown",
   "id": "3dff9c07-6edf-456d-a49d-7a6a1132f8e0",
   "metadata": {
    "id": "3dff9c07-6edf-456d-a49d-7a6a1132f8e0"
   },
   "source": [
    "## Проверка данных на нормальность\n",
    "\n",
    "Проверим предположение о нормальности распределения `metric_value` с помощью **критерия Шапиро-Уилка**. Его нулевая гипотеза заключается в том, что выборка имеет нормальное распределение.\n",
    "\n",
    "Данный критерий был выбран из-за того, что обладает большей мощностью (способностью не допустить ошибку 2-го рода, то есть ложно принять нулевую гипотезу), чем, например, непараметрические критерии Колмогорова-Смирнова и Андерсена-Дарлинга."
   ]
  },
  {
   "cell_type": "code",
   "execution_count": 7,
   "id": "cd211d87-14d8-4f28-b2bb-691badff4026",
   "metadata": {
    "colab": {
     "base_uri": "https://localhost:8080/"
    },
    "executionInfo": {
     "elapsed": 324,
     "status": "ok",
     "timestamp": 1638947087916,
     "user": {
      "displayName": "Artyom Novopolsky",
      "photoUrl": "https://lh3.googleusercontent.com/a-/AOh14Gi7B6-DXLtrBykiBfRtOp62BPkUqslVCXI1_h1Z=s64",
      "userId": "10721039327553002337"
     },
     "user_tz": -180
    },
    "id": "cd211d87-14d8-4f28-b2bb-691badff4026",
    "outputId": "f81f8db9-7b7e-44e0-9882-f43fc843c7d0",
    "scrolled": true
   },
   "outputs": [
    {
     "name": "stdout",
     "output_type": "stream",
     "text": [
      "Распределение metric_value в контрольной группе: отличное от нормального. H0 отвергнута. \n",
      "Распределение metric_value в тестовой группе: отличное от нормального. H0 отвергнута.\n"
     ]
    }
   ],
   "source": [
    "def calc_shapiro_wilk_test(control, test):\n",
    "    control_res = shapiro(control)\n",
    "    test_res = shapiro(test)\n",
    "    return control_res, test_res\n",
    "\n",
    "alpha = 0.05\n",
    "metric_value_res = calc_shapiro_wilk_test(control['metric_value'], test['metric_value'])\n",
    "\n",
    "print('Распределение metric_value в контрольной группе:',\n",
    "      ('нормальное. H0 принята.' if metric_value_res[0][1] > alpha else 'отличное от нормального. H0 отвергнута.'), \n",
    "      '\\nРаспределение metric_value в тестовой группе:',\n",
    "      ('нормальное. H0 принята.' if metric_value_res[1][1] > alpha else 'отличное от нормального. H0 отвергнута.'))"
   ]
  },
  {
   "cell_type": "markdown",
   "id": "12ef8db0-ad9e-4e92-8e2c-9dbcfa8f8865",
   "metadata": {
    "id": "12ef8db0-ad9e-4e92-8e2c-9dbcfa8f8865"
   },
   "source": [
    "Используя тест Шапиро-Уилка, мы не смогли принять нулевую гипотезу о нормальности распределения `metric_value`. Теперь можем утверждать, что распределения всех наших метрик имеет вид, отличный от нормального. "
   ]
  },
  {
   "cell_type": "markdown",
   "id": "d25b7c6f-7562-48e4-992d-8200c6cfb885",
   "metadata": {
    "id": "d25b7c6f-7562-48e4-992d-8200c6cfb885"
   },
   "source": [
    "## Оценка равенства дисперсий\n",
    "\n",
    "Проверим, равны ли дисперсии у групп с помощью **критерия Левена**. Данный критерий был выбран из-за своей универсальности (может оценивать равенство дисперсий 2-х и более выборок), а также из-за того, что он менее чувствителен к отклонению распределения от нормального, чем, например, критерий Бартлетта. \n",
    "\n",
    "Нулевая гипотеза критерия предполагает, что рассматриваемые выборки получены из генеральных совокупностей, обладающих одинаковыми дисперсиями."
   ]
  },
  {
   "cell_type": "code",
   "execution_count": 8,
   "id": "1793a081-5692-4a6b-9fd0-e734f0a34f86",
   "metadata": {
    "colab": {
     "base_uri": "https://localhost:8080/"
    },
    "executionInfo": {
     "elapsed": 391,
     "status": "ok",
     "timestamp": 1638947091611,
     "user": {
      "displayName": "Artyom Novopolsky",
      "photoUrl": "https://lh3.googleusercontent.com/a-/AOh14Gi7B6-DXLtrBykiBfRtOp62BPkUqslVCXI1_h1Z=s64",
      "userId": "10721039327553002337"
     },
     "user_tz": -180
    },
    "id": "1793a081-5692-4a6b-9fd0-e734f0a34f86",
    "outputId": "2c8d318a-a44a-41f7-a91f-9d2048056921"
   },
   "outputs": [
    {
     "name": "stdout",
     "output_type": "stream",
     "text": [
      "Дисперсии metric_value у контрольной и тестовой групп: равны. H0 принята.\n"
     ]
    }
   ],
   "source": [
    "alpha = 0.05\n",
    "metric_value_res = levene(control['metric_value'], test['metric_value'])\n",
    "print('Дисперсии metric_value у контрольной и тестовой групп:',\n",
    "      ('равны. H0 принята.' if metric_value_res[1] > alpha else 'не равны. H0 отвергнута.'))"
   ]
  },
  {
   "cell_type": "markdown",
   "id": "3c8b1ff3-506f-4a2e-83f4-78d2b56d75f6",
   "metadata": {
    "id": "3c8b1ff3-506f-4a2e-83f4-78d2b56d75f6"
   },
   "source": [
    "С помощью критерия Левена мы убедились, что дисперсии `metric_value` в группах равны. \n",
    "\n",
    "Однако из-за того, что распределения всех метрик имеет вид, отличный от нормального, мы не можем применить классические методы оценки статистической значимости, как **t-test**. Поэтому для оценки нашего эксперимента мы воспользуемся методом **bootstrap**."
   ]
  },
  {
   "cell_type": "markdown",
   "id": "35070e5c-9177-4df8-a6b0-4864a67cfbfc",
   "metadata": {
    "id": "35070e5c-9177-4df8-a6b0-4864a67cfbfc"
   },
   "source": [
    "## Оценка статистической значимости различий \n",
    "\n",
    "Наконец, можем перейти к статистической оценке значимости различий метрик в контрольной и тестовых группах. Так как распределения метрик отличны от нормального, то для этого мы воспользуемся методом **bootstrap**.\n",
    "\n",
    "В качестве статистики будем использовать среднее (`stat_func=bs_stats.mean`) и будем вычислять разности (`compare_func=bs_compare.difference`). На выходе получим доверительный интервал для разности средних в тестовой и контрольной группах. Соответственно, если доверительный интервал не будет включать в себя 0, то можем считать различия в группах статистически значимыми."
   ]
  },
  {
   "cell_type": "code",
   "execution_count": 9,
   "id": "0f8d9f89-ebfb-4ea0-b3da-c356036fac4a",
   "metadata": {
    "colab": {
     "base_uri": "https://localhost:8080/"
    },
    "executionInfo": {
     "elapsed": 1697,
     "status": "ok",
     "timestamp": 1638947096473,
     "user": {
      "displayName": "Artyom Novopolsky",
      "photoUrl": "https://lh3.googleusercontent.com/a-/AOh14Gi7B6-DXLtrBykiBfRtOp62BPkUqslVCXI1_h1Z=s64",
      "userId": "10721039327553002337"
     },
     "user_tz": -180
    },
    "id": "0f8d9f89-ebfb-4ea0-b3da-c356036fac4a",
    "outputId": "61bb8f7a-7640-43c2-ea19-f54a5f2926d8"
   },
   "outputs": [
    {
     "data": {
      "text/plain": [
       "432.82458935408613    (339.6375251154875, 526.9511316905898)"
      ]
     },
     "execution_count": 9,
     "metadata": {},
     "output_type": "execute_result"
    }
   ],
   "source": [
    "bs.bootstrap_ab(test['metric_value'].values, \n",
    "                control['metric_value'].values, \n",
    "                stat_func=bs_stats.mean,\n",
    "                compare_func=bs_compare.difference,\n",
    "                alpha=0.05,\n",
    "                num_iterations=10000,\n",
    "                iteration_batch_size=100)"
   ]
  },
  {
   "cell_type": "markdown",
   "id": "1ff46565-f2af-4716-ba3f-84eaaa705204",
   "metadata": {
    "id": "1ff46565-f2af-4716-ba3f-84eaaa705204"
   },
   "source": [
    "Так как доверительный интервал для разности средних метрики `metric_value` **не включает** в себя 0, то средние в группах значимо отличаются. Также заметим, что значения в интервале больше нуля, то есть в тестовой группе метрика значимо **выросла**."
   ]
  },
  {
   "cell_type": "code",
   "execution_count": 10,
   "id": "79b2de0b-9656-4625-8e1f-9e89494c3a4e",
   "metadata": {
    "colab": {
     "base_uri": "https://localhost:8080/"
    },
    "executionInfo": {
     "elapsed": 1514,
     "status": "ok",
     "timestamp": 1638947100219,
     "user": {
      "displayName": "Artyom Novopolsky",
      "photoUrl": "https://lh3.googleusercontent.com/a-/AOh14Gi7B6-DXLtrBykiBfRtOp62BPkUqslVCXI1_h1Z=s64",
      "userId": "10721039327553002337"
     },
     "user_tz": -180
    },
    "id": "79b2de0b-9656-4625-8e1f-9e89494c3a4e",
    "outputId": "ed5841c0-159e-4b02-a297-615c167d2873"
   },
   "outputs": [
    {
     "data": {
      "text/plain": [
       "0.282722690748878    (0.257646337416982, 0.30792492443897235)"
      ]
     },
     "execution_count": 10,
     "metadata": {},
     "output_type": "execute_result"
    }
   ],
   "source": [
    "bs.bootstrap_ab(test['churn_users'].values, \n",
    "                control['churn_users'].values, \n",
    "                stat_func=bs_stats.mean,\n",
    "                compare_func=bs_compare.difference,\n",
    "                alpha=0.05,\n",
    "                num_iterations=10000,\n",
    "                iteration_batch_size=100)"
   ]
  },
  {
   "cell_type": "markdown",
   "id": "74f727ae-846a-435d-8b64-33cb82a0db13",
   "metadata": {
    "id": "74f727ae-846a-435d-8b64-33cb82a0db13"
   },
   "source": [
    "Доверительный интервал для разности средних метрики `churn_users` тоже **не включает** в себя 0, следовательно, средние в группах значимо отличаются. Значения в интервале больше нуля, то есть в тестовой группе метрика значимо **выросла**."
   ]
  },
  {
   "cell_type": "code",
   "execution_count": 11,
   "id": "4237f7fb-2b13-4274-80a1-1d2052106765",
   "metadata": {
    "colab": {
     "base_uri": "https://localhost:8080/"
    },
    "executionInfo": {
     "elapsed": 1541,
     "status": "ok",
     "timestamp": 1638947109965,
     "user": {
      "displayName": "Artyom Novopolsky",
      "photoUrl": "https://lh3.googleusercontent.com/a-/AOh14Gi7B6-DXLtrBykiBfRtOp62BPkUqslVCXI1_h1Z=s64",
      "userId": "10721039327553002337"
     },
     "user_tz": -180
    },
    "id": "4237f7fb-2b13-4274-80a1-1d2052106765",
    "outputId": "db9d35ae-ad4e-4acd-81e4-e76de04af6b9"
   },
   "outputs": [
    {
     "data": {
      "text/plain": [
       "0.006724023100714405    (-0.02091066103954487, 0.03440694577228798)"
      ]
     },
     "execution_count": 11,
     "metadata": {},
     "output_type": "execute_result"
    }
   ],
   "source": [
    "bs.bootstrap_ab(test['users'].values, \n",
    "                control['users'].values, \n",
    "                stat_func=bs_stats.mean,\n",
    "                compare_func=bs_compare.difference,\n",
    "                alpha=0.05,\n",
    "                num_iterations=10000,\n",
    "                iteration_batch_size=100)"
   ]
  },
  {
   "cell_type": "markdown",
   "id": "76c8060b-7e0c-435b-9950-30b04c70c1ac",
   "metadata": {
    "id": "76c8060b-7e0c-435b-9950-30b04c70c1ac"
   },
   "source": [
    "Для разности средних метрики `users` доверительный интервал **включает** в себя 0, поэтому можем сделать вывод, что средние в группах значимо не отличаются."
   ]
  },
  {
   "cell_type": "code",
   "execution_count": 12,
   "id": "121c526f-e666-4d19-b59f-8d30fc089489",
   "metadata": {
    "colab": {
     "base_uri": "https://localhost:8080/"
    },
    "executionInfo": {
     "elapsed": 1695,
     "status": "ok",
     "timestamp": 1638947113534,
     "user": {
      "displayName": "Artyom Novopolsky",
      "photoUrl": "https://lh3.googleusercontent.com/a-/AOh14Gi7B6-DXLtrBykiBfRtOp62BPkUqslVCXI1_h1Z=s64",
      "userId": "10721039327553002337"
     },
     "user_tz": -180
    },
    "id": "121c526f-e666-4d19-b59f-8d30fc089489",
    "outputId": "564569fc-2a91-46b4-ff1b-98e2221d20df"
   },
   "outputs": [
    {
     "data": {
      "text/plain": [
       "-0.2857145601054105    (-0.7590945337560882, 0.18023831235007204)"
      ]
     },
     "execution_count": 12,
     "metadata": {},
     "output_type": "execute_result"
    }
   ],
   "source": [
    "bs.bootstrap_ab(test['visits'].values, \n",
    "                control['visits'].values, \n",
    "                stat_func=bs_stats.mean,\n",
    "                compare_func=bs_compare.difference,\n",
    "                alpha=0.05,\n",
    "                num_iterations=10000,\n",
    "                iteration_batch_size=100)"
   ]
  },
  {
   "cell_type": "markdown",
   "id": "eded4641-a8b7-4af6-a21e-fa5508e3db4c",
   "metadata": {
    "id": "eded4641-a8b7-4af6-a21e-fa5508e3db4c"
   },
   "source": [
    "Доверительный интервал для разности средних метрики `visits` **включает** в себя 0, то есть средние в группах значимо не отличаются."
   ]
  },
  {
   "cell_type": "code",
   "execution_count": 13,
   "id": "dc709421-d4d0-4ccc-9184-9b087837e910",
   "metadata": {
    "colab": {
     "base_uri": "https://localhost:8080/"
    },
    "executionInfo": {
     "elapsed": 1563,
     "status": "ok",
     "timestamp": 1638947116930,
     "user": {
      "displayName": "Artyom Novopolsky",
      "photoUrl": "https://lh3.googleusercontent.com/a-/AOh14Gi7B6-DXLtrBykiBfRtOp62BPkUqslVCXI1_h1Z=s64",
      "userId": "10721039327553002337"
     },
     "user_tz": -180
    },
    "id": "dc709421-d4d0-4ccc-9184-9b087837e910",
    "outputId": "5909480b-234c-4930-bf55-9307a67438be"
   },
   "outputs": [
    {
     "data": {
      "text/plain": [
       "0.050967899828398444    (-0.055457624601065625, 0.15634354493622335)"
      ]
     },
     "execution_count": 13,
     "metadata": {},
     "output_type": "execute_result"
    }
   ],
   "source": [
    "bs.bootstrap_ab(test['churn_visits'].values, \n",
    "                control['churn_visits'].values, \n",
    "                stat_func=bs_stats.mean,\n",
    "                compare_func=bs_compare.difference,\n",
    "                alpha=0.05,\n",
    "                num_iterations=10000,\n",
    "                iteration_batch_size=100)"
   ]
  },
  {
   "cell_type": "markdown",
   "id": "ce6c0dd2-db20-47f6-89a9-d9f3ea48b53e",
   "metadata": {
    "id": "ce6c0dd2-db20-47f6-89a9-d9f3ea48b53e"
   },
   "source": [
    "*Доверительный* интервал для разности средних метрики `churn_visits` также **включает** в себя 0, что говорит о том, что средние в группах значимо не отличаются."
   ]
  },
  {
   "cell_type": "markdown",
   "id": "29cbe189-8e2b-487b-b73f-21163ae97c71",
   "metadata": {
    "id": "29cbe189-8e2b-487b-b73f-21163ae97c71"
   },
   "source": [
    "Результаты метода **bootstrap**, как и результаты стандартных методов оценки статистической значимости, применённых в предыдущей работе, позволяют нам заявить о том, что эксперимент значимо повлиял на метрики `metric_value` и `churn_users`. Метрики `users`, `visits`, `churn visits` значимо не изменились."
   ]
  },
  {
   "cell_type": "markdown",
   "id": "6bfca7e8-4011-46da-a955-350f404a97ed",
   "metadata": {
    "id": "6bfca7e8-4011-46da-a955-350f404a97ed"
   },
   "source": [
    "## Заключение\n",
    "\n",
    "Осталось ответить на самый главный вопрос - **какие позитивные и негативные эффекты вызвало нововведение**.\n",
    "\n",
    "Стоит начать с того, что значение целевой метрики `metric_value`, на которую был нацелен эксперимент, значимо увеличилось, что является *позитивным эффектом* проведенного A/B-теста.\n",
    "\n",
    "Однако у полученного результата есть и обратная сторона, которая заключается в том, что при росте целевой метрики мы получили значимое увеличение кол-ва пользователей, ушедших в отток (`churn_users`).\n",
    "\n",
    "В долгосрочной перспективе это окажет негативное влияние на сервис - из-за нелояльных пользователей будет снижаться репутация сервиса, а также метрики *DAU* и *WAU*, что отрицательно отразится на финансовых показателях.\n",
    "\n",
    "Возможно, новое решение \"агрессивно\" что-то навязывает. Поэтому необходимо понять, чем новые фичи могли не устроить пользователей. Следует скорректировать текущее решение так, чтобы сбалансировать выгоду сервиса и лояльность пользователей. И в идеале провести тест ещё раз.\n",
    "\n",
    "В текущем виде катить не стоит, так как различия в `churn_users` выражены гораздо сильнее, чем прирост `metric_value` (это можно понять, исходя из построенных графиков и рассчитанных объёмов выборок, необходимых для получения статистически значимых результатов). Значимо терять пользователей из-за роста метрики не стоит."
   ]
  }
 ],
 "metadata": {
  "colab": {
   "collapsed_sections": [],
   "name": "hw3_Novopolsky.ipynb",
   "provenance": []
  },
  "kernelspec": {
   "display_name": "Python 3 (ipykernel)",
   "language": "python",
   "name": "python3"
  },
  "language_info": {
   "codemirror_mode": {
    "name": "ipython",
    "version": 3
   },
   "file_extension": ".py",
   "mimetype": "text/x-python",
   "name": "python",
   "nbconvert_exporter": "python",
   "pygments_lexer": "ipython3",
   "version": "3.8.12"
  }
 },
 "nbformat": 4,
 "nbformat_minor": 5
}
