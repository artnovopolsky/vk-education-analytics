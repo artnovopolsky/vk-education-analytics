{
 "cells": [
  {
   "cell_type": "markdown",
   "metadata": {
    "id": "L8EaNnA_iTxp"
   },
   "source": [
    "# Домашнее задание №1. Новопольский Артём"
   ]
  },
  {
   "cell_type": "code",
   "execution_count": 1,
   "metadata": {
    "executionInfo": {
     "elapsed": 434,
     "status": "ok",
     "timestamp": 1636819854612,
     "user": {
      "displayName": "Artyom Novopolsky",
      "photoUrl": "https://lh3.googleusercontent.com/a-/AOh14Gi7B6-DXLtrBykiBfRtOp62BPkUqslVCXI1_h1Z=s64",
      "userId": "10721039327553002337"
     },
     "user_tz": -180
    },
    "id": "ehtihVZ3hofP"
   },
   "outputs": [],
   "source": [
    "import numpy as np\n",
    "import pandas as pd\n",
    "import matplotlib.pyplot as plt\n",
    "from scipy.stats import chisquare"
   ]
  },
  {
   "cell_type": "markdown",
   "metadata": {},
   "source": [
    "## Описание задания\n",
    "\n",
    "1. Cгенерируйте 1000 значений в диапазоне от 5 до 105 методом `random()` и сохраните их в структуру `pandas.Series()`. Какой вид имеет распределение и почему именно такой? Что нужно сделать, чтобы распределение изменило форму?\n",
    "\n",
    "2. Постройте гистограмму при помощи `matplotlib`. Рассчитайте основные статистические метрики для выборки вручную и в `python`.\n",
    "\n",
    "3. Проведите аналогичные расчёты при помощи встроенных методов класса `pandas.Series()`."
   ]
  },
  {
   "cell_type": "markdown",
   "metadata": {
    "id": "zO85N71lhwMf"
   },
   "source": [
    "## 1. Генерация данных\n",
    "\n",
    "При помощи метода `np.random.random()` сгенерировано 1000 значений в диапазоне от 5 до 105. Значения сохранены в структуре данных `pd.Series()`."
   ]
  },
  {
   "cell_type": "code",
   "execution_count": 2,
   "metadata": {
    "executionInfo": {
     "elapsed": 15,
     "status": "ok",
     "timestamp": 1636819855274,
     "user": {
      "displayName": "Artyom Novopolsky",
      "photoUrl": "https://lh3.googleusercontent.com/a-/AOh14Gi7B6-DXLtrBykiBfRtOp62BPkUqslVCXI1_h1Z=s64",
      "userId": "10721039327553002337"
     },
     "user_tz": -180
    },
    "id": "pQ55svIDjfN7"
   },
   "outputs": [],
   "source": [
    "distr = np.random.random(size=1000) * 100 + 5\n",
    "distr_ser = pd.Series(distr)"
   ]
  },
  {
   "cell_type": "markdown",
   "metadata": {
    "id": "zmRUR1s6oy6c"
   },
   "source": [
    "## 2. Построение гистограммы выборки и определение вида распределения\n",
    "\n",
    "При помощи библиотеки `matplotlib` построена гистограмма. \n",
    "\n",
    "Для расчёта количества интервалов (параметр `bins`) использовалось правило Стёрджеса, по которому:\n",
    "\n",
    "&nbsp;&nbsp;&nbsp;&nbsp;&nbsp;&nbsp;&nbsp;&nbsp;&nbsp;\n",
    "$bins=1+[log_{2}(N)]$, где $N$ - число наблюдений в выборке.\n"
   ]
  },
  {
   "cell_type": "markdown",
   "metadata": {
    "id": "bm3kse3_G1eh"
   },
   "source": [
    "На гистограмме видно, что распределение сгененерированных данных является **равномерным**. Это объясняется тем, что метод `np.random.random()` генерирует данные именно из данного вида распределения. "
   ]
  },
  {
   "cell_type": "code",
   "execution_count": 3,
   "metadata": {
    "colab": {
     "base_uri": "https://localhost:8080/",
     "height": 294
    },
    "executionInfo": {
     "elapsed": 14,
     "status": "ok",
     "timestamp": 1636819855275,
     "user": {
      "displayName": "Artyom Novopolsky",
      "photoUrl": "https://lh3.googleusercontent.com/a-/AOh14Gi7B6-DXLtrBykiBfRtOp62BPkUqslVCXI1_h1Z=s64",
      "userId": "10721039327553002337"
     },
     "user_tz": -180
    },
    "id": "Gdt3y5UMlf02",
    "outputId": "221452cb-687f-49ab-e675-099cc5912479"
   },
   "outputs": [
    {
     "data": {
      "image/png": "[encoded data removed]",
      "text/plain": [
       "<Figure size 432x288 with 1 Axes>"
      ]
     },
     "metadata": {
      "needs_background": "light"
     },
     "output_type": "display_data"
    }
   ],
   "source": [
    "plt.title('Распределение сгенерированной выборки')\n",
    "plt.xlabel('Значения данных')\n",
    "plt.ylabel('Количество попаданий в интервал')\n",
    "plt.hist(distr_ser, bins='sturges', color='blue')\n",
    "plt.show()"
   ]
  },
  {
   "cell_type": "markdown",
   "metadata": {
    "id": "aPCr6CD6lhH1"
   },
   "source": [
    "*Чтобы распределение изменило форму*, можно добавить к нашим данным выбросы c обеих сторон:\n"
   ]
  },
  {
   "cell_type": "code",
   "execution_count": 4,
   "metadata": {
    "colab": {
     "base_uri": "https://localhost:8080/",
     "height": 294
    },
    "executionInfo": {
     "elapsed": 10,
     "status": "ok",
     "timestamp": 1636819855276,
     "user": {
      "displayName": "Artyom Novopolsky",
      "photoUrl": "https://lh3.googleusercontent.com/a-/AOh14Gi7B6-DXLtrBykiBfRtOp62BPkUqslVCXI1_h1Z=s64",
      "userId": "10721039327553002337"
     },
     "user_tz": -180
    },
    "id": "iXCdex2OAntK",
    "outputId": "81aaf771-99e9-4a8c-e7e2-19e6230d04eb"
   },
   "outputs": [
    {
     "data": {
      "image/png": "[encoded data removed]",
      "text/plain": [
       "<Figure size 432x288 with 1 Axes>"
      ]
     },
     "metadata": {
      "needs_background": "light"
     },
     "output_type": "display_data"
    }
   ],
   "source": [
    "left_outliers = np.random.random(200) * (-100)\n",
    "right_outliers = np.random.random(200) * 200\n",
    "distr_with_outliers = np.concatenate((left_outliers, distr, right_outliers))\n",
    "\n",
    "plt.title('Распределение выборки с выбросами')\n",
    "plt.xlabel('Значения данных')\n",
    "plt.ylabel('Количество попаданий в интервал')\n",
    "plt.hist(distr_with_outliers, bins='sturges', color='blue')\n",
    "plt.show()"
   ]
  },
  {
   "cell_type": "markdown",
   "metadata": {
    "id": "eWGHLb8DupWY"
   },
   "source": [
    "С помощью **критерия Пирсона** проверим, соответствует ли исходная выборка и выборка с выбросами равномерному распределению. \n",
    "Нулевая гипотеза $H_{0}$ этого метода гласит, что распределение выборки соответсвует предполагаемому.\n",
    "\n",
    "Для расчёта статистики и $p-value$ воспользуемся функцией `chisquare()` из библиотеки `scipy`. \n",
    "\n",
    "Также в расчетах нам пригодятся *самописные* функции для создания интервалов выборки `create_intervals()` и расчёта наблюдаемых и ожидаемых частот попадания значений выборки в эти интервалы `calc_uniform_freqs()`. Именно на основании значений наблюдаемых и ожидаемых частот и работает метод Пирсона.\n",
    "\n",
    "Данные функции и расчёт представлены в ячейке ниже."
   ]
  },
  {
   "cell_type": "code",
   "execution_count": 5,
   "metadata": {
    "colab": {
     "base_uri": "https://localhost:8080/"
    },
    "executionInfo": {
     "elapsed": 9,
     "status": "ok",
     "timestamp": 1636819855678,
     "user": {
      "displayName": "Artyom Novopolsky",
      "photoUrl": "https://lh3.googleusercontent.com/a-/AOh14Gi7B6-DXLtrBykiBfRtOp62BPkUqslVCXI1_h1Z=s64",
      "userId": "10721039327553002337"
     },
     "user_tz": -180
    },
    "id": "wdaNx7xNxg0P",
    "outputId": "5943f310-bb41-4121-a2c6-a7381de835ad"
   },
   "outputs": [
    {
     "name": "stdout",
     "output_type": "stream",
     "text": [
      "Исходная выборка имеет равномерное распределение. H0 принимается, т.к  p-value = 0.33\n",
      "Выборка с выбросами имеет распределение, отличное от равномерного. H0 отвергается, т.к  p-value = 0.0\n"
     ]
    }
   ],
   "source": [
    "def create_intervals(sample):\n",
    "    \"\"\" Создание интервалов для оценки частоты попадания значений выборки в них. \"\"\"\n",
    "\n",
    "    bins = 1 + int(np.log2(len(sample)))  # количество интервалов по правилу Стёрджеса\n",
    "    borders = np.histogram_bin_edges(sample, bins)  # находим границы интервалов\n",
    "    borders[0] -= 0.0001  # чтобы крайние значения из выборки попали в интервал\n",
    "    borders[-1] += 0.0001 \n",
    "    return [pd.Interval(borders[i], borders[i+1], closed=\"neither\") for i in range(len(borders) - 1)]\n",
    "\n",
    "\n",
    "def calc_uniform_freqs(sample, intervals):\n",
    "    \"\"\" Расчёт наблюдаемых и ожидаемых частот попадания в интервал. \"\"\"\n",
    "\n",
    "    f_obs = [len([x for x in sample if x in interval]) for interval in intervals]\n",
    "    f_exp = [len(sample) / len(f_obs)] * len(f_obs)\n",
    "    return f_obs, f_exp\n",
    "\n",
    "\n",
    "alpha = 0.05\n",
    "\n",
    "# Применение критерия Пирсона к исходной выборке\n",
    "intervals1 = create_intervals(distr_ser)\n",
    "f_obs, f_exp = calc_uniform_freqs(distr_ser, intervals1)\n",
    "chi2_stat, pvalue1 = chisquare(f_obs, f_exp, ddof=2)\n",
    "\n",
    "# Применение критерия Пирсона к выборке с выбросами\n",
    "intervals2 = create_intervals(distr_with_outliers)\n",
    "f_obs, f_exp = calc_uniform_freqs(distr_with_outliers, intervals2)\n",
    "chi2_stat, pvalue2 = chisquare(f_obs, f_exp, ddof=2)\n",
    "\n",
    "# Сравнение результатов\n",
    "print('Исходная выборка' + (' имеет равномерное распределение. H0 принимается, т.к ' if pvalue1 > alpha else ' имеет распределение, отличное от равномерного. H0 отвергается, т.к ') + ' p-value =', round(pvalue1, 2))\n",
    "print('Выборка с выбросами' + (' имеет равномерное распределение. H0 принимается, т.к ' if pvalue2 > alpha else ' имеет распределение, отличное от равномерного. H0 отвергается, т.к ') + ' p-value =', round(pvalue2, 2))"
   ]
  },
  {
   "cell_type": "markdown",
   "metadata": {
    "id": "aAd6HJXExyHE"
   },
   "source": [
    "На основе метода Пирсона было выявлено, что исходная выборка действительно имеет равномерное распределение. $p-value$ сильно превышает заданный уровень значимости 0.05, из-за чего мы не можем отклонить $H_{0}$.\n",
    "\n",
    "Распределение же выборки, в которой присутствуют выбросы, действительно изменило свою форму, в чем мы также смогли убедиться при применении критерия Пирсона: $H_{0}$ пришлось отклонить, так как значение $p-value$ слишком мало при заданном уровне значимости 0.05."
   ]
  },
  {
   "cell_type": "markdown",
   "metadata": {
    "id": "l5DxL_z3oA7E"
   },
   "source": [
    "## 3. Расчёт основных статистических метрик\n",
    "\n",
    "Для полученной выборки рассчитаны основные статистические метрики 2-мя способами:\n",
    "- \"вручную\"\n",
    "- при помощи встроенных методов класса `pd.Series()`"
   ]
  },
  {
   "cell_type": "markdown",
   "metadata": {
    "id": "vuWQs-8hEsLL"
   },
   "source": [
    "### Расчет метрик \"вручную\"\n",
    "\n",
    "Стоит отметить, что из-за **равномерного** характера сгенерированного распределения, его мода не может быть однозначно определена, так как каждое значение в выборке встречается с примерно одинаковой вероятностью.\n",
    "\n",
    "Но в качестве упражнения были написаны расчёты всех мер центральной тенденции, мер изменчивости и квантилей."
   ]
  },
  {
   "cell_type": "code",
   "execution_count": 6,
   "metadata": {
    "executionInfo": {
     "elapsed": 7,
     "status": "ok",
     "timestamp": 1636819855678,
     "user": {
      "displayName": "Artyom Novopolsky",
      "photoUrl": "https://lh3.googleusercontent.com/a-/AOh14Gi7B6-DXLtrBykiBfRtOp62BPkUqslVCXI1_h1Z=s64",
      "userId": "10721039327553002337"
     },
     "user_tz": -180
    },
    "id": "E1KJ3HAXHPKt"
   },
   "outputs": [],
   "source": [
    "# Меры центральной тенденции\n",
    "def calc_mean(sample):\n",
    "    \"\"\" Расчёт математического ожидания. \"\"\"\n",
    "\n",
    "    mean = 1 / len(sample) * sum(sample)\n",
    "    return mean\n",
    "\n",
    "\n",
    "def calc_median(sample):\n",
    "    \"\"\" Расчёт медианы. \"\"\"\n",
    "\n",
    "    sample = sorted(sample)\n",
    "    if len(sample) % 2 == 1:\n",
    "        median = sample[len(sample) // 2]\n",
    "    else:\n",
    "        median = 0.5 * (sample[len(sample) // 2 - 1] + sample[len(sample) // 2])\n",
    "    return median\n",
    "\n",
    "\n",
    "def calc_mode(sample):\n",
    "    \"\"\" Расчёт моды. \"\"\"\n",
    "\n",
    "    # Подсчёт количества вхождений каждого значения в выборку\n",
    "    counts = {}\n",
    "    for x in sample:\n",
    "        if x not in counts:\n",
    "            counts[x] = 1\n",
    "        else:\n",
    "            counts[x] += 1\n",
    "  \n",
    "  # Поиск значения с максимальным количеством вхождений\n",
    "    max_count = 0\n",
    "    mode = None\n",
    "    for key, value in counts.items():\n",
    "        if max_count < value:\n",
    "            max_count = value\n",
    "            mode = key\n",
    "\n",
    "    return mode\n",
    "\n",
    "\n",
    "# Меры изменчивости\n",
    "def calc_biased_variability_measures(sample):\n",
    "    \"\"\" Расчёт смещённых оценок дисперсии и среднеквадратического отклонения. \"\"\"\n",
    "\n",
    "    biased_variance = 1 / len(sample) * sum(((sample - calc_mean(sample)) ** 2))\n",
    "    biased_std = biased_variance ** 0.5\n",
    "    return biased_variance, biased_std\n",
    "\n",
    "\n",
    "def calc_unbiased_variability_measures(sample):\n",
    "    \"\"\" Расчёт несмещённых оценок дисперсии и среднеквадратического отклонения. \"\"\"\n",
    "\n",
    "    unbiased_variance = (1 / (len(sample) - 1)) * sum(((sample - calc_mean(sample)) ** 2))\n",
    "    unbiased_std = unbiased_variance ** 0.5\n",
    "    return unbiased_variance, unbiased_std\n",
    "\n",
    "\n",
    "# Квантили\n",
    "def calc_quantiles(sample, quantiles=[0.25, 0.5, 0.75]):\n",
    "    \"\"\" Расчет значений квантилей выборки. \"\"\"\n",
    "\n",
    "    sample = sorted(sample)\n",
    "    q_values = [sample[int(quantile * len(sample)) - 1] for quantile in quantiles]\n",
    "    return dict(zip(quantiles, q_values))"
   ]
  },
  {
   "cell_type": "markdown",
   "metadata": {
    "id": "O505-dIpT_eW"
   },
   "source": [
    "Проверим результаты:"
   ]
  },
  {
   "cell_type": "code",
   "execution_count": 7,
   "metadata": {
    "colab": {
     "base_uri": "https://localhost:8080/"
    },
    "executionInfo": {
     "elapsed": 7,
     "status": "ok",
     "timestamp": 1636819855679,
     "user": {
      "displayName": "Artyom Novopolsky",
      "photoUrl": "https://lh3.googleusercontent.com/a-/AOh14Gi7B6-DXLtrBykiBfRtOp62BPkUqslVCXI1_h1Z=s64",
      "userId": "10721039327553002337"
     },
     "user_tz": -180
    },
    "id": "d4fS9g0ZLez6",
    "outputId": "6284f7ec-c919-449e-dcee-b5f6055b7063"
   },
   "outputs": [
    {
     "name": "stdout",
     "output_type": "stream",
     "text": [
      "Медиана = 55.005672852853344\n",
      "Мат. ожидание = 55.189078484950976\n",
      "Смещённая дисперсия = 833.5405621687643\n",
      "Смещённое среднеквадратическое отклонение = 28.871102545084145\n",
      "Несмещённая дисперсии = 834.3749371058701\n",
      "Несмещённое среднеквадратическое отклонение = 28.885548932050263\n",
      "0.25-квантиль = 31.420970461045822\n",
      "0.5-квантиль = 54.9914838391291\n",
      "0.75-квантиль = 80.6653869914512\n"
     ]
    }
   ],
   "source": [
    "print(f'Медиана = {calc_median(distr_ser)}')\n",
    "print(f'Мат. ожидание = {calc_mean(distr_ser)}')\n",
    "\n",
    "biased_variance, biased_std = calc_biased_variability_measures(distr_ser)\n",
    "print(f'Смещённая дисперсия = {biased_variance}')\n",
    "print(f'Смещённое среднеквадратическое отклонение = {biased_std}')\n",
    "\n",
    "unbiased_variance, unbiased_std = calc_unbiased_variability_measures(distr_ser)\n",
    "print(f'Несмещённая дисперсии = {unbiased_variance}')\n",
    "print(f'Несмещённое среднеквадратическое отклонение = {unbiased_std}')\n",
    "\n",
    "quantiles = calc_quantiles(distr_ser, quantiles=[0.25, 0.5, 0.75])\n",
    "for quantile, q_value in quantiles.items():\n",
    "    print(f'{quantile}-квантиль = {q_value}')"
   ]
  },
  {
   "cell_type": "markdown",
   "metadata": {
    "id": "APuY-LX-L_PO"
   },
   "source": [
    "### Расчёт метрик с помощью встроенных методов `pd.Series()`"
   ]
  },
  {
   "cell_type": "code",
   "execution_count": 8,
   "metadata": {
    "colab": {
     "base_uri": "https://localhost:8080/"
    },
    "executionInfo": {
     "elapsed": 5,
     "status": "ok",
     "timestamp": 1636819855679,
     "user": {
      "displayName": "Artyom Novopolsky",
      "photoUrl": "https://lh3.googleusercontent.com/a-/AOh14Gi7B6-DXLtrBykiBfRtOp62BPkUqslVCXI1_h1Z=s64",
      "userId": "10721039327553002337"
     },
     "user_tz": -180
    },
    "id": "WIQO5HaXgiFj",
    "outputId": "2212e684-9125-41a2-c7a6-6536f81ed382"
   },
   "outputs": [
    {
     "name": "stdout",
     "output_type": "stream",
     "text": [
      "Медиана = 55.005672852853344\n",
      "Мат. ожидание = 55.189078484950954\n",
      "Смещённая дисперсия = 833.5405621687659\n",
      "Смещённое среднеквадратическое отклонение = 28.871102545084174\n",
      "Несмещённая дисперсии = 834.3749371058717\n",
      "Несмещённое среднеквадратическое отклонение = 28.88554893205029\n",
      "0.25-квантиль = 31.440289301796717\n",
      "0.5-квантиль = 55.005672852853344\n",
      "0.75-квантиль = 80.70021909448768\n"
     ]
    }
   ],
   "source": [
    "print(f'Медиана = {distr_ser.median()}')\n",
    "print(f'Мат. ожидание = {distr_ser.mean()}')\n",
    "\n",
    "print(f'Смещённая дисперсия = {distr_ser.std(ddof=0) ** 2}')\n",
    "print(f'Смещённое среднеквадратическое отклонение = {distr_ser.std(ddof=0)}')\n",
    "\n",
    "print(f'Несмещённая дисперсии = {distr_ser.std(ddof=1) ** 2}')\n",
    "print(f'Несмещённое среднеквадратическое отклонение = {distr_ser.std(ddof=1)}')\n",
    "\n",
    "q_values = distr_ser.quantile(q=[0.25, 0.5, 0.75])\n",
    "for quantile in q_values.index:\n",
    "    print(f'{quantile}-квантиль = {q_values[quantile]}')"
   ]
  },
  {
   "cell_type": "markdown",
   "metadata": {
    "id": "vdEF8IN--0Py"
   },
   "source": [
    "Заметим, что расчёт статистических метрик \"вручную\" и с помощью встроенных методов `pd.Series()` дал *одни и те же результаты*. Немного разнится лишь расчёт квантилей. Это связано с математическими особенностями их расчёта в методах `pd.Series()`, мы же брали определённый элемент из исходной отсортированной выборки."
   ]
  }
 ],
 "metadata": {
  "colab": {
   "authorship_tag": "ABX9TyPxPRZKFPKnnH8cZo7sh5kp",
   "collapsed_sections": [],
   "name": "hw1_Novopolsky.ipynb",
   "provenance": []
  },
  "kernelspec": {
   "display_name": "Python 3 (ipykernel)",
   "language": "python",
   "name": "python3"
  },
  "language_info": {
   "codemirror_mode": {
    "name": "ipython",
    "version": 3
   },
   "file_extension": ".py",
   "mimetype": "text/x-python",
   "name": "python",
   "nbconvert_exporter": "python",
   "pygments_lexer": "ipython3",
   "version": "3.8.12"
  }
 },
 "nbformat": 4,
 "nbformat_minor": 4
}
