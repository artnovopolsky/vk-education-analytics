{
 "cells": [
  {
   "cell_type": "markdown",
   "id": "a32d8154",
   "metadata": {
    "id": "a32d8154"
   },
   "source": [
    "## Домашнее задание №2. Новопольский Артём"
   ]
  },
  {
   "cell_type": "code",
   "execution_count": 1,
   "id": "879f8916",
   "metadata": {
    "id": "879f8916"
   },
   "outputs": [],
   "source": [
    "import numpy as np\n",
    "import pandas as pd\n",
    "import matplotlib.pyplot as plt\n",
    "import seaborn as sns\n",
    "import warnings\n",
    "from scipy.stats import shapiro, bartlett, ttest_ind\n",
    "from statsmodels.stats.power import TTestIndPower\n",
    "warnings.filterwarnings('ignore')\n",
    "sns.set(palette='bright')"
   ]
  },
  {
   "cell_type": "markdown",
   "id": "8de68818",
   "metadata": {
    "id": "8de68818"
   },
   "source": [
    "### Описание кейса\n",
    "\n",
    "1. На сайте проводится некоторый эксперимент. Время проведения эксперимента – *2 недели*. Всего на сайте **DAU** около *500 000* и **WAU** около *850 000*. Всего за время работы на сайте образовалась аудитория из около *1 500 000* не уходящих в отток посетителей.\n",
    "\n",
    "\n",
    "2. В файле данные о результатах эксперимента. В колонке `group_id` вы видите bucket’ы с номерами *от 1 до 16*. К группе `A`, контрольной, относятся bucket’ы *1..8*, к группе `B`, экспериментальной – *9..16*. Колонки:\n",
    "- `metric_value` – сумма целевых действий пользователей в рамках bucket’а – например, просмотров рекламного баннера, телефона на сайте classified-сервиса или покупок в retail/FMCG;\n",
    "- `users` – кол-во пользователей, совершивших целевое действие, \n",
    "- `visits` – кол-во целевых сессий,\n",
    "- `churn_users` и `churn_visits` – кол-во пользователей в рамках bucket’а, отказавшихся сделать заказ, и сессий, не закончившихся успешным целевым действием.\n",
    "\n",
    "3. Менеджера продукта интересует, какие **позитивные** и **негативные** эффекты вызвало нововведение. Продумайте **метрики**, которые стоит исследовать в рамках имеющихся данных для ответа на вопрос менеджера.\n",
    "\n",
    "\n",
    "### Описание задания\n",
    "\n",
    "1. Загрузите данные из файла в структуру `pandas.DataFrame()`.\n",
    "\n",
    "2. Проведите *оценку равенства дисперсий* исследуемых метрик в группах и исследуйте *распределение на нормальность*. Какими критериями вы воспользовались и почему?\n",
    "\n",
    "3. Оцените *статистическую значимость различий* исследуемых метрик в выборках. Какой критерий вы выбрали для оценки и почему?\n",
    "\n",
    "4. Размер генеральной совокупности составляет *1 500 000*. Достаточен ли *размер выборок* для представления достоверных выводов? Если нет, сколько ещё по времени следует проводить тест и/или на какую долю пользователей его раскатывать, чтобы результаты можно было считать достоверными?\n",
    "\n",
    "5. Изобразите *гистограммы* и *диаграммы размаха*.\n",
    "\n",
    "6. Результат работы пришлите в формате *IPython Jupyter Notebook* на сервисе *Google Colab*."
   ]
  },
  {
   "cell_type": "markdown",
   "id": "ae9032a8",
   "metadata": {
    "id": "ae9032a8"
   },
   "source": [
    "## Импорт данных"
   ]
  },
  {
   "cell_type": "code",
   "execution_count": 2,
   "id": "8dec7a6f",
   "metadata": {
    "colab": {
     "base_uri": "https://localhost:8080/",
     "height": 206
    },
    "executionInfo": {
     "elapsed": 1101,
     "status": "ok",
     "timestamp": 1639945092265,
     "user": {
      "displayName": "Artyom Novopolsky",
      "photoUrl": "https://lh3.googleusercontent.com/a-/AOh14Gi7B6-DXLtrBykiBfRtOp62BPkUqslVCXI1_h1Z=s64",
      "userId": "10721039327553002337"
     },
     "user_tz": -180
    },
    "id": "8dec7a6f",
    "outputId": "e44aa012-3296-4a67-b8fb-3d82788a4e62",
    "scrolled": true
   },
   "outputs": [
    {
     "data": {
      "text/html": [
       "<div>\n",
       "<style scoped>\n",
       "    .dataframe tbody tr th:only-of-type {\n",
       "        vertical-align: middle;\n",
       "    }\n",
       "\n",
       "    .dataframe tbody tr th {\n",
       "        vertical-align: top;\n",
       "    }\n",
       "\n",
       "    .dataframe thead th {\n",
       "        text-align: right;\n",
       "    }\n",
       "</style>\n",
       "<table border=\"1\" class=\"dataframe\">\n",
       "  <thead>\n",
       "    <tr style=\"text-align: right;\">\n",
       "      <th></th>\n",
       "      <th>group_id</th>\n",
       "      <th>metric_value</th>\n",
       "      <th>users</th>\n",
       "      <th>visits</th>\n",
       "      <th>churn_users</th>\n",
       "      <th>churn_visits</th>\n",
       "      <th>group</th>\n",
       "    </tr>\n",
       "  </thead>\n",
       "  <tbody>\n",
       "    <tr>\n",
       "      <th>0</th>\n",
       "      <td>8</td>\n",
       "      <td>6630.000</td>\n",
       "      <td>0</td>\n",
       "      <td>0</td>\n",
       "      <td>0</td>\n",
       "      <td>8</td>\n",
       "      <td>A</td>\n",
       "    </tr>\n",
       "    <tr>\n",
       "      <th>1</th>\n",
       "      <td>13</td>\n",
       "      <td>6933.976</td>\n",
       "      <td>0</td>\n",
       "      <td>0</td>\n",
       "      <td>1</td>\n",
       "      <td>6</td>\n",
       "      <td>B</td>\n",
       "    </tr>\n",
       "    <tr>\n",
       "      <th>2</th>\n",
       "      <td>10</td>\n",
       "      <td>8261.976</td>\n",
       "      <td>1</td>\n",
       "      <td>10</td>\n",
       "      <td>1</td>\n",
       "      <td>8</td>\n",
       "      <td>B</td>\n",
       "    </tr>\n",
       "    <tr>\n",
       "      <th>3</th>\n",
       "      <td>4</td>\n",
       "      <td>5522.000</td>\n",
       "      <td>1</td>\n",
       "      <td>9</td>\n",
       "      <td>1</td>\n",
       "      <td>7</td>\n",
       "      <td>A</td>\n",
       "    </tr>\n",
       "    <tr>\n",
       "      <th>4</th>\n",
       "      <td>16</td>\n",
       "      <td>5075.976</td>\n",
       "      <td>1</td>\n",
       "      <td>6</td>\n",
       "      <td>0</td>\n",
       "      <td>8</td>\n",
       "      <td>B</td>\n",
       "    </tr>\n",
       "  </tbody>\n",
       "</table>\n",
       "</div>"
      ],
      "text/plain": [
       "   group_id  metric_value  users  visits  churn_users  churn_visits group\n",
       "0         8      6630.000      0       0            0             8     A\n",
       "1        13      6933.976      0       0            1             6     B\n",
       "2        10      8261.976      1      10            1             8     B\n",
       "3         4      5522.000      1       9            1             7     A\n",
       "4        16      5075.976      1       6            0             8     B"
      ]
     },
     "execution_count": 2,
     "metadata": {},
     "output_type": "execute_result"
    }
   ],
   "source": [
    "user_data = pd.read_csv('../data/hw_ab_test.csv', sep='\\t', index_col=0)\n",
    "user_data.head()"
   ]
  },
  {
   "cell_type": "markdown",
   "id": "a851b0ae",
   "metadata": {
    "id": "a851b0ae"
   },
   "source": [
    "Убедимся, что в нашем наборе данных отсутствуют пропущенные значения:"
   ]
  },
  {
   "cell_type": "code",
   "execution_count": 3,
   "id": "18b0e99c",
   "metadata": {
    "colab": {
     "base_uri": "https://localhost:8080/"
    },
    "executionInfo": {
     "elapsed": 387,
     "status": "ok",
     "timestamp": 1639945094884,
     "user": {
      "displayName": "Artyom Novopolsky",
      "photoUrl": "https://lh3.googleusercontent.com/a-/AOh14Gi7B6-DXLtrBykiBfRtOp62BPkUqslVCXI1_h1Z=s64",
      "userId": "10721039327553002337"
     },
     "user_tz": -180
    },
    "id": "18b0e99c",
    "outputId": "72b7d556-89af-4788-b21c-082a5e3538f7",
    "scrolled": true
   },
   "outputs": [
    {
     "data": {
      "text/plain": [
       "True"
      ]
     },
     "execution_count": 3,
     "metadata": {},
     "output_type": "execute_result"
    }
   ],
   "source": [
    "user_data.isna().values.sum() == 0"
   ]
  },
  {
   "cell_type": "markdown",
   "id": "238b6a66",
   "metadata": {
    "id": "238b6a66"
   },
   "source": [
    "Посмотрим, сколько пользователей содержится в контрольной и тестовой группах, чтобы удостовериться, что количество наблюдений сбалансировано:"
   ]
  },
  {
   "cell_type": "code",
   "execution_count": 4,
   "id": "b38c1549",
   "metadata": {
    "colab": {
     "base_uri": "https://localhost:8080/"
    },
    "executionInfo": {
     "elapsed": 3,
     "status": "ok",
     "timestamp": 1639945096016,
     "user": {
      "displayName": "Artyom Novopolsky",
      "photoUrl": "https://lh3.googleusercontent.com/a-/AOh14Gi7B6-DXLtrBykiBfRtOp62BPkUqslVCXI1_h1Z=s64",
      "userId": "10721039327553002337"
     },
     "user_tz": -180
    },
    "id": "b38c1549",
    "outputId": "cca61650-7f77-4e03-f9cb-59db8db77080",
    "scrolled": true
   },
   "outputs": [
    {
     "name": "stdout",
     "output_type": "stream",
     "text": [
      "Control group size: 2451 \n",
      "Test group size: 2549\n"
     ]
    }
   ],
   "source": [
    "print('Control group size:', len(user_data.loc[user_data.group == 'A']), \n",
    "      '\\nTest group size:', len(user_data.loc[user_data.group == 'B']))"
   ]
  },
  {
   "cell_type": "markdown",
   "id": "e394f21d",
   "metadata": {
    "id": "e394f21d"
   },
   "source": [
    "Для более удобного анализа сгруппируем пользователей по бакетам (поле `group_id`) и посмотрим на кумулятивные показатели:"
   ]
  },
  {
   "cell_type": "code",
   "execution_count": 5,
   "id": "03afc447",
   "metadata": {
    "colab": {
     "base_uri": "https://localhost:8080/",
     "height": 551
    },
    "executionInfo": {
     "elapsed": 9,
     "status": "ok",
     "timestamp": 1639945097489,
     "user": {
      "displayName": "Artyom Novopolsky",
      "photoUrl": "https://lh3.googleusercontent.com/a-/AOh14Gi7B6-DXLtrBykiBfRtOp62BPkUqslVCXI1_h1Z=s64",
      "userId": "10721039327553002337"
     },
     "user_tz": -180
    },
    "id": "03afc447",
    "outputId": "c91a401e-301d-4f3a-bd73-9924c53ad8bd"
   },
   "outputs": [
    {
     "data": {
      "text/html": [
       "<div>\n",
       "<style scoped>\n",
       "    .dataframe tbody tr th:only-of-type {\n",
       "        vertical-align: middle;\n",
       "    }\n",
       "\n",
       "    .dataframe tbody tr th {\n",
       "        vertical-align: top;\n",
       "    }\n",
       "\n",
       "    .dataframe thead th {\n",
       "        text-align: right;\n",
       "    }\n",
       "</style>\n",
       "<table border=\"1\" class=\"dataframe\">\n",
       "  <thead>\n",
       "    <tr style=\"text-align: right;\">\n",
       "      <th></th>\n",
       "      <th>group_id</th>\n",
       "      <th>metric_value</th>\n",
       "      <th>users</th>\n",
       "      <th>visits</th>\n",
       "      <th>churn_users</th>\n",
       "      <th>churn_visits</th>\n",
       "    </tr>\n",
       "  </thead>\n",
       "  <tbody>\n",
       "    <tr>\n",
       "      <th>0</th>\n",
       "      <td>1</td>\n",
       "      <td>1875345.000</td>\n",
       "      <td>155</td>\n",
       "      <td>1419</td>\n",
       "      <td>151</td>\n",
       "      <td>2207</td>\n",
       "    </tr>\n",
       "    <tr>\n",
       "      <th>1</th>\n",
       "      <td>2</td>\n",
       "      <td>1662237.000</td>\n",
       "      <td>138</td>\n",
       "      <td>1320</td>\n",
       "      <td>127</td>\n",
       "      <td>1853</td>\n",
       "    </tr>\n",
       "    <tr>\n",
       "      <th>2</th>\n",
       "      <td>3</td>\n",
       "      <td>1784372.000</td>\n",
       "      <td>128</td>\n",
       "      <td>1281</td>\n",
       "      <td>159</td>\n",
       "      <td>2032</td>\n",
       "    </tr>\n",
       "    <tr>\n",
       "      <th>3</th>\n",
       "      <td>4</td>\n",
       "      <td>1876826.000</td>\n",
       "      <td>163</td>\n",
       "      <td>1644</td>\n",
       "      <td>168</td>\n",
       "      <td>2172</td>\n",
       "    </tr>\n",
       "    <tr>\n",
       "      <th>4</th>\n",
       "      <td>5</td>\n",
       "      <td>1913180.000</td>\n",
       "      <td>156</td>\n",
       "      <td>1675</td>\n",
       "      <td>174</td>\n",
       "      <td>2273</td>\n",
       "    </tr>\n",
       "    <tr>\n",
       "      <th>5</th>\n",
       "      <td>6</td>\n",
       "      <td>1733079.000</td>\n",
       "      <td>144</td>\n",
       "      <td>1509</td>\n",
       "      <td>141</td>\n",
       "      <td>2009</td>\n",
       "    </tr>\n",
       "    <tr>\n",
       "      <th>6</th>\n",
       "      <td>7</td>\n",
       "      <td>1864555.000</td>\n",
       "      <td>151</td>\n",
       "      <td>1481</td>\n",
       "      <td>161</td>\n",
       "      <td>2139</td>\n",
       "    </tr>\n",
       "    <tr>\n",
       "      <th>7</th>\n",
       "      <td>8</td>\n",
       "      <td>2029143.000</td>\n",
       "      <td>162</td>\n",
       "      <td>1533</td>\n",
       "      <td>153</td>\n",
       "      <td>2299</td>\n",
       "    </tr>\n",
       "    <tr>\n",
       "      <th>8</th>\n",
       "      <td>9</td>\n",
       "      <td>2047289.536</td>\n",
       "      <td>143</td>\n",
       "      <td>1424</td>\n",
       "      <td>242</td>\n",
       "      <td>2191</td>\n",
       "    </tr>\n",
       "    <tr>\n",
       "      <th>9</th>\n",
       "      <td>10</td>\n",
       "      <td>2228154.648</td>\n",
       "      <td>179</td>\n",
       "      <td>1803</td>\n",
       "      <td>265</td>\n",
       "      <td>2518</td>\n",
       "    </tr>\n",
       "    <tr>\n",
       "      <th>10</th>\n",
       "      <td>11</td>\n",
       "      <td>1876015.920</td>\n",
       "      <td>150</td>\n",
       "      <td>1448</td>\n",
       "      <td>226</td>\n",
       "      <td>2062</td>\n",
       "    </tr>\n",
       "    <tr>\n",
       "      <th>11</th>\n",
       "      <td>12</td>\n",
       "      <td>2102859.224</td>\n",
       "      <td>149</td>\n",
       "      <td>1339</td>\n",
       "      <td>261</td>\n",
       "      <td>2257</td>\n",
       "    </tr>\n",
       "    <tr>\n",
       "      <th>12</th>\n",
       "      <td>13</td>\n",
       "      <td>2079287.344</td>\n",
       "      <td>155</td>\n",
       "      <td>1240</td>\n",
       "      <td>257</td>\n",
       "      <td>2248</td>\n",
       "    </tr>\n",
       "    <tr>\n",
       "      <th>13</th>\n",
       "      <td>14</td>\n",
       "      <td>2127954.032</td>\n",
       "      <td>166</td>\n",
       "      <td>1397</td>\n",
       "      <td>256</td>\n",
       "      <td>2215</td>\n",
       "    </tr>\n",
       "    <tr>\n",
       "      <th>14</th>\n",
       "      <td>15</td>\n",
       "      <td>1887384.920</td>\n",
       "      <td>161</td>\n",
       "      <td>1488</td>\n",
       "      <td>224</td>\n",
       "      <td>2015</td>\n",
       "    </tr>\n",
       "    <tr>\n",
       "      <th>15</th>\n",
       "      <td>16</td>\n",
       "      <td>2082370.200</td>\n",
       "      <td>159</td>\n",
       "      <td>1469</td>\n",
       "      <td>273</td>\n",
       "      <td>2287</td>\n",
       "    </tr>\n",
       "  </tbody>\n",
       "</table>\n",
       "</div>"
      ],
      "text/plain": [
       "    group_id  metric_value  users  visits  churn_users  churn_visits\n",
       "0          1   1875345.000    155    1419          151          2207\n",
       "1          2   1662237.000    138    1320          127          1853\n",
       "2          3   1784372.000    128    1281          159          2032\n",
       "3          4   1876826.000    163    1644          168          2172\n",
       "4          5   1913180.000    156    1675          174          2273\n",
       "5          6   1733079.000    144    1509          141          2009\n",
       "6          7   1864555.000    151    1481          161          2139\n",
       "7          8   2029143.000    162    1533          153          2299\n",
       "8          9   2047289.536    143    1424          242          2191\n",
       "9         10   2228154.648    179    1803          265          2518\n",
       "10        11   1876015.920    150    1448          226          2062\n",
       "11        12   2102859.224    149    1339          261          2257\n",
       "12        13   2079287.344    155    1240          257          2248\n",
       "13        14   2127954.032    166    1397          256          2215\n",
       "14        15   1887384.920    161    1488          224          2015\n",
       "15        16   2082370.200    159    1469          273          2287"
      ]
     },
     "execution_count": 5,
     "metadata": {},
     "output_type": "execute_result"
    }
   ],
   "source": [
    "bucket_data = user_data.groupby('group_id', as_index=False).sum()\n",
    "bucket_data"
   ]
  },
  {
   "cell_type": "markdown",
   "id": "74ce1cbb",
   "metadata": {
    "id": "74ce1cbb"
   },
   "source": [
    "Из полученных данных видно, что значение целевой метрики (`metric_value`) в бакетах 1-8 (контрольная группа) как правило меньше, чем в бакетах 9-16 (тестовая группа). \n",
    "Также видно, что количество пользователей, отказавшихся сделать заказ (`churn_users`) в тестовой группе больше, чем в контрольной. \n",
    "Различия в остальных метриках выглядят статистически не значимыми."
   ]
  },
  {
   "cell_type": "markdown",
   "id": "55bf1313",
   "metadata": {
    "id": "55bf1313"
   },
   "source": [
    "## Графический анализ данных\n",
    "\n",
    "Начнём проверку выдвинутых предположений с **визуализации данных**. Для этого разобьём сгруппированные данные по бакетам: бакеты *1..8* отнесём к контрольной группе, бакеты *9..16* - к тестовой."
   ]
  },
  {
   "cell_type": "code",
   "execution_count": 6,
   "id": "f1926feb",
   "metadata": {
    "executionInfo": {
     "elapsed": 394,
     "status": "ok",
     "timestamp": 1639945100946,
     "user": {
      "displayName": "Artyom Novopolsky",
      "photoUrl": "https://lh3.googleusercontent.com/a-/AOh14Gi7B6-DXLtrBykiBfRtOp62BPkUqslVCXI1_h1Z=s64",
      "userId": "10721039327553002337"
     },
     "user_tz": -180
    },
    "id": "f1926feb"
   },
   "outputs": [],
   "source": [
    "control = bucket_data.loc[bucket_data['group_id'].isin(range(1, 9))]\n",
    "test = bucket_data.loc[bucket_data['group_id'].isin(range(9, 17))]"
   ]
  },
  {
   "cell_type": "markdown",
   "id": "cf5f6eef",
   "metadata": {
    "id": "cf5f6eef"
   },
   "source": [
    "Для визуализации создадим функцию - `show_plots`, которая будет принимать на вход данные для контрольной и тестовой групп, а также метрики, которые нужно визуализировать.\n",
    "\n",
    "Функция будет отображать два графика для каждой метрики - **гистограмму** метрики в контрольной и тестовой группах с гладкой оценкой распределения, а также **диаграмму размаха** (box-plot) метрики в контрольной и тестовой группах."
   ]
  },
  {
   "cell_type": "code",
   "execution_count": 7,
   "id": "1e1881e3",
   "metadata": {
    "colab": {
     "base_uri": "https://localhost:8080/",
     "height": 1000
    },
    "executionInfo": {
     "elapsed": 3659,
     "status": "ok",
     "timestamp": 1639945106455,
     "user": {
      "displayName": "Artyom Novopolsky",
      "photoUrl": "https://lh3.googleusercontent.com/a-/AOh14Gi7B6-DXLtrBykiBfRtOp62BPkUqslVCXI1_h1Z=s64",
      "userId": "10721039327553002337"
     },
     "user_tz": -180
    },
    "id": "1e1881e3",
    "outputId": "6acb1600-40d9-4014-9fa9-e083b31c6218"
   },
   "outputs": [
    {
     "data": {
      "image/png": "[encoded data removed]",
      "text/plain": [
       "<Figure size 720x1440 with 10 Axes>"
      ]
     },
     "metadata": {},
     "output_type": "display_data"
    }
   ],
   "source": [
    "def show_plots(control, test, metrics):\n",
    "    fig, axes = plt.subplots(len(metrics), 2, figsize=(10, 20))\n",
    "    plt.subplots_adjust(wspace=0.3, hspace=0.3)\n",
    "    \n",
    "    for i, metric in enumerate(metrics):\n",
    "        sns.distplot(control[metric], ax=axes[i, 0], label='control group')\n",
    "        sns.distplot(test[metric], ax=axes[i, 0], label='test group')\n",
    "        axes[i, 0].legend()\n",
    "        \n",
    "        sns.boxplot(data=[control[metric], test[metric]], ax=axes[i, 1]).set(\n",
    "            xticklabels=['control group', 'test group'], \n",
    "            ylabel=metric,\n",
    "        )\n",
    "    plt.show()\n",
    "\n",
    "metrics = ['metric_value', 'churn_users', 'users', 'visits', 'churn_visits']\n",
    "show_plots(control, test, metrics)"
   ]
  },
  {
   "cell_type": "markdown",
   "id": "d912058c",
   "metadata": {
    "id": "d912058c"
   },
   "source": [
    "### Интерпретация графиков\n",
    "\n",
    "Обсудим метрики в порядке их визуализации и начнём с целевой метрики **`metric_value`** в тестовой и контрольных группах. \n",
    "\n",
    "На гистограмме видим, что данные в тестовой группе смещены относительно контрольной. А *box-plot* позволяет нам всерьёз задуматься о значимом различии между группами, так как медиана каждой выборки не входит в диапазон \"усов\" другой выборки.\n",
    "\n",
    "Перейдем к графическому анализу метрики **`churn_users`**: по полученным графикам отчётливо видно, что между группами есть различия, значимость которых нужно будет изучить детальнее. \n",
    "\n",
    "Перейдём к метрике **`users`**: по графикам можно заключить, что в ходе эксперимента метрика **`users`** (кол-во пользователей, совершивших целевое действие) осталась на том же уровне и исследовать её более глубоко не имеет смысла.\n",
    "\n",
    "Посмотрим на метрику кол-ва целевых сессий **`visits`**: по графикам заметно, что эксперимент не оказал воздействия на метрику **`visits`**, так как значения контрольной и тестовой групп почти не смещены относительно друг друга. \n",
    "\n",
    "Перейдём к заключительной метрике в исходных данных - **`churn visits`** (сессии, не закончившиеся успешным целевым действием): на графиках видно, что значения метрики **`churn_visits`** в тестовой и контрольной группах остаются примерно на одном уровне и в дальнейшем исследовании различий нет смысла.\n",
    "\n",
    "### Вывод по графикам\n",
    "С помощью гистограмм и \"ящиков с усами\" мы подтвердили выдвинутое предположение о том, что эксперимент оказал серьёзное воздействие на метрики `metric_value` и `churn_users`, поэтому в дальнейшем анализе сосредоточимся на исследовании значимости их различий в тестовой и контрольной группах.\n",
    "\n",
    "По графикам также заметно, что распределения исследуемых метрик имеют распределение, близкое к нормальному. Проверим это ниже."
   ]
  },
  {
   "cell_type": "markdown",
   "id": "76c8e407",
   "metadata": {
    "id": "76c8e407"
   },
   "source": [
    "## Проверка данных на нормальность\n",
    "\n",
    "Подкрепим наши предположения о различиях метрик `metric_value` и `churn_users` в контрольной и тестовой группах с помощью статистических тестов. Для начала необходимо проверить данные из групп на нормальность с помощью **критерия Шапиро-Уилка**. Его нулевая гипотеза заключается в том, что выборка имеет нормальное распределение.\n",
    "\n",
    "Данный критерий был выбран из-за того, что обладает большей мощностью (способностью не допустить ошибку 2-го рода, то есть ложно принять нулевую гипотезу), чем, например, непараметрические критерии Колмогорова-Смирнова и Андерсена-Дарлинга."
   ]
  },
  {
   "cell_type": "code",
   "execution_count": 8,
   "id": "74087cbd",
   "metadata": {
    "colab": {
     "base_uri": "https://localhost:8080/"
    },
    "executionInfo": {
     "elapsed": 581,
     "status": "ok",
     "timestamp": 1639945112075,
     "user": {
      "displayName": "Artyom Novopolsky",
      "photoUrl": "https://lh3.googleusercontent.com/a-/AOh14Gi7B6-DXLtrBykiBfRtOp62BPkUqslVCXI1_h1Z=s64",
      "userId": "10721039327553002337"
     },
     "user_tz": -180
    },
    "id": "74087cbd",
    "outputId": "38d99b29-1100-4be9-caba-be18bb2a1cbd",
    "scrolled": true
   },
   "outputs": [
    {
     "name": "stdout",
     "output_type": "stream",
     "text": [
      "Распределение metric_value в контрольной группе: нормальное. H0 принята. \n",
      "Распределение metric_value в тестовой группе: нормальное. H0 принята.\n",
      "Распределение churn_users в контрольной группе: нормальное. H0 принята. \n",
      "Распределение churn_users в тестовой группе: нормальное. H0 принята.\n"
     ]
    }
   ],
   "source": [
    "def calc_shapiro_wilk_test(control, test):\n",
    "    control_res = shapiro(control)\n",
    "    test_res = shapiro(test)\n",
    "    return control_res, test_res\n",
    "\n",
    "alpha = 0.05\n",
    "metric_value_res = calc_shapiro_wilk_test(control['metric_value'], test['metric_value'])\n",
    "churn_users_res = calc_shapiro_wilk_test(control['churn_users'], test['churn_users'])\n",
    "\n",
    "print('Распределение metric_value в контрольной группе:',\n",
    "      ('нормальное. H0 принята.' if metric_value_res[0][1] > alpha else 'отличное от нормального. H0 отвергнута.'), \n",
    "      '\\nРаспределение metric_value в тестовой группе:',\n",
    "      ('нормальное. H0 принята.' if metric_value_res[1][1] > alpha else 'отличное от нормального. H0 отвергнута.'))\n",
    "\n",
    "print('Распределение churn_users в контрольной группе:',\n",
    "      ('нормальное. H0 принята.' if churn_users_res[0][1] > alpha else 'отличное от нормального. H0 отвергнута.'), \n",
    "      '\\nРаспределение churn_users в тестовой группе:',\n",
    "      ('нормальное. H0 принята.' if churn_users_res[1][1] > alpha else 'отличное от нормального. H0 отвергнута.'))"
   ]
  },
  {
   "cell_type": "markdown",
   "id": "6f99e78b",
   "metadata": {
    "id": "6f99e78b"
   },
   "source": [
    "Можем утверждать, что метрики `metric_value` и `churn_users` в каждой группе имеют нормальное распределение"
   ]
  },
  {
   "cell_type": "markdown",
   "id": "fec19f20",
   "metadata": {
    "id": "fec19f20"
   },
   "source": [
    "## Оценка равенства дисперсий\n",
    "\n",
    "Теперь можем проверить, равны ли дисперсии у групп с помощью **критерия Бартлетта**. Данный критерий был выбран из-за своей универсальности (может оценивать равенство дисперсий 2-х и более выборок), а также из-за того, что обладает большей мощностью, чем, например, критерий Левена.\n",
    "\n",
    "Нулевая гипотеза критерия предполагает, что рассматриваемые выборки получены из генеральных совокупностей, обладающих одинаковыми дисперсиями."
   ]
  },
  {
   "cell_type": "code",
   "execution_count": 9,
   "id": "cf261706",
   "metadata": {
    "colab": {
     "base_uri": "https://localhost:8080/"
    },
    "executionInfo": {
     "elapsed": 1037,
     "status": "ok",
     "timestamp": 1639945116641,
     "user": {
      "displayName": "Artyom Novopolsky",
      "photoUrl": "https://lh3.googleusercontent.com/a-/AOh14Gi7B6-DXLtrBykiBfRtOp62BPkUqslVCXI1_h1Z=s64",
      "userId": "10721039327553002337"
     },
     "user_tz": -180
    },
    "id": "cf261706",
    "outputId": "8fbb3072-e9e4-4cfd-bc4c-efff1021d964"
   },
   "outputs": [
    {
     "name": "stdout",
     "output_type": "stream",
     "text": [
      "Дисперсии metric_value у контрольной и тестовой групп: равны. H0 принята.\n",
      "Дисперсии churn_users у контрольной и тестовой групп: равны. H0 принята.\n"
     ]
    }
   ],
   "source": [
    "alpha = 0.05\n",
    "metric_value_res = bartlett(control['metric_value'], test['metric_value'])\n",
    "churn_users_res = bartlett(control['churn_users'], test['churn_users'])\n",
    "\n",
    "print('Дисперсии metric_value у контрольной и тестовой групп:',\n",
    "      ('равны. H0 принята.' if metric_value_res[1] > alpha else 'не равны. H0 отвергнута.'))\n",
    "\n",
    "print('Дисперсии churn_users у контрольной и тестовой групп:',\n",
    "      ('равны. H0 принята.' if churn_users_res[1] > alpha else 'не равны. H0 отвергнута.'))"
   ]
  },
  {
   "cell_type": "markdown",
   "id": "afec1652",
   "metadata": {
    "id": "afec1652"
   },
   "source": [
    "С помощью теста Бартлетта мы убедились, что дисперсии в группах равны. Можем перейти к самой важной части исследования - оценки статистической значимости различий."
   ]
  },
  {
   "cell_type": "markdown",
   "id": "cf2d3a90",
   "metadata": {
    "id": "cf2d3a90"
   },
   "source": [
    "## Оценка статистической значимости различий \n",
    "\n",
    "Наконец, можем перейти к статистической оценке значимости различий метрик `metric_value` и `churn_visits` в контрольной и тестовых группах. Так как наши бакеты независимы,  распределения близки к нормальному и дисперсии в группах равны, то для этого мы будем использовать **t-критерий Стьюдента для независимых выборок**. \n",
    "\n",
    "Нулевая гипотеза t-теста предполагает, что средние в двух выборках равны."
   ]
  },
  {
   "cell_type": "code",
   "execution_count": 10,
   "id": "2f9c80c0",
   "metadata": {
    "colab": {
     "base_uri": "https://localhost:8080/"
    },
    "executionInfo": {
     "elapsed": 620,
     "status": "ok",
     "timestamp": 1639945121517,
     "user": {
      "displayName": "Artyom Novopolsky",
      "photoUrl": "https://lh3.googleusercontent.com/a-/AOh14Gi7B6-DXLtrBykiBfRtOp62BPkUqslVCXI1_h1Z=s64",
      "userId": "10721039327553002337"
     },
     "user_tz": -180
    },
    "id": "2f9c80c0",
    "outputId": "a9b83610-bd19-4ad6-96b1-fd37ea7a2107",
    "scrolled": true
   },
   "outputs": [
    {
     "name": "stdout",
     "output_type": "stream",
     "text": [
      "Средние значения metric_value у контрольной и тестовой групп: не равны. H0 отвергнута.\n",
      "Средние значения churn_users у контрольной и тестовой групп: не равны. H0 отвергнута.\n"
     ]
    }
   ],
   "source": [
    "alpha = 0.05\n",
    "metric_value_res = ttest_ind(control['metric_value'], test['metric_value'])\n",
    "churn_users_res = ttest_ind(control['churn_users'], test['churn_users'])\n",
    "\n",
    "print('Средние значения metric_value у контрольной и тестовой групп:',\n",
    "      ('равны. H0 принята.' if metric_value_res[1] > alpha else 'не равны. H0 отвергнута.'))\n",
    "\n",
    "print('Средние значения churn_users у контрольной и тестовой групп:',\n",
    "      ('равны. H0 принята.' if churn_users_res[1] > alpha else 'не равны. H0 отвергнута.'))"
   ]
  },
  {
   "cell_type": "markdown",
   "id": "0380cdcf",
   "metadata": {
    "id": "0380cdcf"
   },
   "source": [
    "Результаты теста Стьюдента позволяют нам заявить о том, что эксперимент значимо повлиял на метрики `metric_value` и `churn_users`. Но достаточен ли объём наших данных, чтобы делать такие выводы? Узнаем ниже."
   ]
  },
  {
   "cell_type": "markdown",
   "id": "22c2f4e0",
   "metadata": {
    "id": "22c2f4e0"
   },
   "source": [
    "## Расчёт необходимого объёма выборки\n",
    "\n",
    "Удостоверимся, что объём выборок, которые мы анализировали, достаточен для представления достоверных выводов о различии средних. Уровень мощности  $(1-\\beta)$ стандартно равняется 0.8, уровень значимости $\\alpha$ = 0.05. \n",
    "\n",
    "В качестве значения эффекта возьмём полученный относительный прирост среднего значения метрики после эксперимента:\n",
    "\n",
    "$$effect=\\frac{test_{mean}-control_{mean}}{control_{mean}}$$"
   ]
  },
  {
   "cell_type": "code",
   "execution_count": 11,
   "id": "0c0b417b",
   "metadata": {
    "colab": {
     "base_uri": "https://localhost:8080/"
    },
    "executionInfo": {
     "elapsed": 493,
     "status": "ok",
     "timestamp": 1639945126115,
     "user": {
      "displayName": "Artyom Novopolsky",
      "photoUrl": "https://lh3.googleusercontent.com/a-/AOh14Gi7B6-DXLtrBykiBfRtOp62BPkUqslVCXI1_h1Z=s64",
      "userId": "10721039327553002337"
     },
     "user_tz": -180
    },
    "id": "0c0b417b",
    "outputId": "bddd5829-6ad2-4644-e468-6d93384545df",
    "scrolled": true
   },
   "outputs": [
    {
     "name": "stdout",
     "output_type": "stream",
     "text": [
      "Необходимый объём выборки для metric_value: 1191.269\n",
      "Необходимый объём выборки для churn_users: 41.299\n"
     ]
    }
   ],
   "source": [
    "def calc_sample_size(control, test):\n",
    "    alpha = 0.05\n",
    "    power = 0.8\n",
    "    effect = (test.mean() - control.mean()) / control.mean()\n",
    "    result = TTestIndPower().solve_power(effect_size=effect, power=power, alpha=alpha, nobs1=None, ratio=1.0)\n",
    "    return result\n",
    "\n",
    "metric_value_res = calc_sample_size(control['metric_value'], test['metric_value'])\n",
    "churn_users_res = calc_sample_size(control['churn_users'], test['churn_users'])\n",
    "print(f'Необходимый объём выборки для metric_value: {round(metric_value_res, 3)}')\n",
    "print(f'Необходимый объём выборки для churn_users: {round(churn_users_res, 3)}')"
   ]
  },
  {
   "cell_type": "markdown",
   "id": "2c96425e",
   "metadata": {
    "id": "2c96425e"
   },
   "source": [
    "Получаем следующие цифры: при полученном эффекте по метрике `metric_value` для достоверных выводов нужно *1191* наблюдение, по метрике `churn_users` - *41*. Стоит напомнить, что анализ мы проводили на кумулятивных данных по бакетам. Суммарный объём наблюдений в бакетах, относящихся к контрольной группе A, составляет *2451* наблюдение (это было рассчитано в самом начале), к тестовой группе B - *2549*. \n",
    "\n",
    "Таким образом, размер анализируемых выборок достаточен, чтобы достоверно заключить о том, что метрики `metric_value` и `churn_users` значимо различаются в контрольной и тестовой группе."
   ]
  },
  {
   "cell_type": "markdown",
   "id": "f2b12d04",
   "metadata": {
    "id": "f2b12d04"
   },
   "source": [
    "## Заключение\n",
    "\n",
    "Осталось ответить на самый главный вопрос - **какие позитивные и негативные эффекты вызвало нововведение**.\n",
    "\n",
    "Стоит начать с того, что значение целевой метрики `metric_value`, на которую был нацелен эксперимент, значимо увеличилось, что является *позитивным эффектом* проведенного A/B-теста.\n",
    "\n",
    "Однако у полученного результата есть и обратная сторона, которая заключается в том, что при росте целевой метрики мы получили значимое увеличение кол-ва пользователей, ушедших в отток (`churn_users`).\n",
    "\n",
    "В долгосрочной перспективе это окажет негативное влияние на сервис - из-за нелояльных пользователей будет снижаться репутация сервиса, а также метрики *DAU* и *WAU*, что отрицательно отразится на финансовых показателях.\n",
    "\n",
    "Возможно, новое решение \"агрессивно\" что-то навязывает. Поэтому необходимо понять, чем новые фичи могли не устроить пользователей. Следует скорректировать текущее решение так, чтобы сбалансировать выгоду сервиса и лояльность пользователей. И в идеале провести тест ещё раз.\n",
    "\n",
    "В текущем виде катить не стоит, так как различия в `churn_users` выражены гораздо сильнее, чем прирост `metric_value` (это можно понять, исходя из построенных графиков и рассчитанных объёмов выборок, необходимых для получения статистически значимых результатов). Значимо терять пользователей из-за роста метрики не стоит."
   ]
  }
 ],
 "metadata": {
  "colab": {
   "collapsed_sections": [],
   "name": "hw2_Novopolsky.ipynb",
   "provenance": []
  },
  "kernelspec": {
   "display_name": "Python 3 (ipykernel)",
   "language": "python",
   "name": "python3"
  },
  "language_info": {
   "codemirror_mode": {
    "name": "ipython",
    "version": 3
   },
   "file_extension": ".py",
   "mimetype": "text/x-python",
   "name": "python",
   "nbconvert_exporter": "python",
   "pygments_lexer": "ipython3",
   "version": "3.8.12"
  }
 },
 "nbformat": 4,
 "nbformat_minor": 5
}
